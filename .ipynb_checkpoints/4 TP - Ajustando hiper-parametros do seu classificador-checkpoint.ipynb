{
 "cells": [
  {
   "cell_type": "code",
   "execution_count": 1,
   "metadata": {},
   "outputs": [],
   "source": [
    "# Importa o pacote train_test_split\n",
    "from sklearn.model_selection import train_test_split\n",
    "\n",
    "# Cria classificador\n",
    "from sklearn import tree                    # Importa o pacote de arvore de decisao\n",
    "clf = tree.DecisionTreeClassifier()         # Cria classificador\n",
    "\n",
    "#Importa o crawler\n",
    "import json\n",
    "import crawler\n",
    "import pandas as pd"
   ]
  },
  {
   "cell_type": "code",
   "execution_count": 2,
   "metadata": {},
   "outputs": [],
   "source": [
    "class_names = [\"No Score\", \"Appalling\", \"Horrible\", \"Very Bad\", \"Bad\", \"Average\", \"Fine\", \"Good\", \"Very Good\", \"Great\", \"Masterpiece\"]\n",
    "\n",
    "# Listas com todos os atributos disponíveis\n",
    "atributos_anime_todos = [\"title\", \"duration\", \"episodes\", \"genres\", \"popularity\", \"public_score\", \"rank\", \"rating\", \"source\", \"studios\", \"type\", \"year\"]\n",
    "atributos_avaliacao_todos = [\"num_watched_episodes\", \"user_score\", \"status\"]\n",
    "\n",
    "# Listas com alguns atributos mais relevantes\n",
    "atributos_anime_padrao = atributos_anime_todos#[\"duration\", \"episodes\", \"genres\", \"type\", \"year\"]\n",
    "atributos_avaliacao_padrao = atributos_avaliacao_todos#[\"user_score\"]"
   ]
  },
  {
   "cell_type": "code",
   "execution_count": 3,
   "metadata": {},
   "outputs": [],
   "source": [
    "def filtro(usuario, f_selecao, atributos_anime = atributos_anime_padrao, atributos_avaliacao = atributos_avaliacao_padrao, agrupar_episodios = False, force_update = False):\n",
    "\tif \"user_score\" not in atributos_avaliacao:\n",
    "\t\tatributos_avaliacao.append(\"user_score\")\n",
    "\n",
    "\tdados = []\n",
    "\tlista_animes = crawler.get_lista(usuario)\n",
    "\n",
    "\tgeneros = []\n",
    "\testudios = []\n",
    "\tfor anime in lista_animes:\n",
    "\t\tif anime.genres != None:\n",
    "\t\t\tgeneros.extend(anime.genres)\n",
    "\t\tif anime.studios != None:\n",
    "\t\t\testudios.extend(anime.studios)\n",
    "\n",
    "\tgeneros = list(set(generos))\n",
    "\testudios = list(set(estudios))\n",
    "\n",
    "\tfor anime in lista_animes:\n",
    "\t\tdado = {}\n",
    "\t\tdado_filtrado = {}\n",
    "\n",
    "\t\t# Pegando os dados do anime\n",
    "\t\tfor atributo in atributos_anime_todos:\n",
    "\t\t\tdado[atributo] = anime.__dict__[atributo]\n",
    "\n",
    "\t\t# Pegando os dados da avaliação\n",
    "\t\twith open(\"data/users/\" + usuario + \"/\" + str(anime.id) + \".json\") as f:\n",
    "\t\t\tavaliacao = json.loads(f.read())\n",
    "\n",
    "\t\t\tfor atributo in atributos_avaliacao_todos:\n",
    "\t\t\t\tdado[atributo] = avaliacao[atributo]\n",
    "\n",
    "\t\tif f_selecao == None or f_selecao(dado):\n",
    "\t\t\tdado_filtrado = {}\n",
    "\n",
    "\t\t\tfor atributo in atributos_anime:\n",
    "\t\t\t\tif atributo == \"genres\":\n",
    "\t\t\t\t\tfor genero in generos:\n",
    "\t\t\t\t\t\tif dado[\"genres\"] != None and genero in dado[\"genres\"]:\n",
    "\t\t\t\t\t\t\tdado_filtrado[\"Genre:\" + genero] = 1\n",
    "\t\t\t\t\t\telse:\n",
    "\t\t\t\t\t\t\tdado_filtrado[\"Genre:\" + genero] = -1\n",
    "\t\t\t\t\tcontinue\n",
    "\n",
    "\t\t\t\tif atributo == \"studios\":\n",
    "\t\t\t\t\tfor estudio in estudios:\n",
    "\t\t\t\t\t\tif dado[\"studios\"] != None and estudio in dado[\"studios\"]:\n",
    "\t\t\t\t\t\t\tdado_filtrado[\"Studio:\" + estudio] = 1\n",
    "\t\t\t\t\t\telse:\n",
    "\t\t\t\t\t\t\tdado_filtrado[\"Studio:\" + estudio] = -1\n",
    "\t\t\t\t\tcontinue\n",
    "\n",
    "\t\t\t\tif agrupar_episodios and \"episodes\" in atributo:\n",
    "\t\t\t\t\ttry:\n",
    "\t\t\t\t\t\tepis = int(dado[atributo])\n",
    "\t\t\t\t\t\tif epis <= 6:\n",
    "\t\t\t\t\t\t\tdado_filtrado[atributo] = 1\n",
    "\t\t\t\t\t\telif epis <= 14:\n",
    "\t\t\t\t\t\t\tdado_filtrado[atributo] = 2\n",
    "\t\t\t\t\t\telif epis <= 26:\n",
    "\t\t\t\t\t\t\tdado_filtrado[atributo] = 3\n",
    "\t\t\t\t\t\telif epis <= 70:\n",
    "\t\t\t\t\t\t\tdado_filtrado[atributo] = 4\n",
    "\t\t\t\t\t\telse:\n",
    "\t\t\t\t\t\t\tdado_filtrado[atributo] = 5\n",
    "\t\t\t\t\texcept:\n",
    "\t\t\t\t\t\tdado_filtrado[atributo] = dado[atributo]\n",
    "\n",
    "\t\t\tfor atributo in atributos_avaliacao:\n",
    "\t\t\t\tdado_filtrado[atributo] = dado[atributo]\n",
    "\n",
    "\t\t\tdados.append(dado_filtrado)\n",
    "\t\n",
    "\treturn dados"
   ]
  },
  {
   "cell_type": "code",
   "execution_count": 4,
   "metadata": {},
   "outputs": [],
   "source": [
    "def carregar_dataset(usuario, f_selecao, atributos_anime = atributos_anime_padrao, atributos_avaliacao = atributos_avaliacao_padrao, agrupar_episodios = False, force_update = False):\n",
    "\tlista_final = filtro(usuario, f_selecao, atributos_anime, atributos_avaliacao, agrupar_episodios, force_update)\n",
    "\n",
    "\tdf = pd.read_json(json.dumps(lista_final))\n",
    "\n",
    "\ttarget = df['user_score']\n",
    "\tdata = df.drop('user_score', axis = 1)\n",
    "\n",
    "\tfrom sklearn import preprocessing\n",
    "\tle = preprocessing.LabelEncoder()\n",
    "\tfor attr in data.columns:\n",
    "\t\tif data[attr].dtype == object:\n",
    "\t\t\tdata[attr] = le.fit_transform(data[attr])\n",
    "\t\n",
    "\treturn data, target"
   ]
  },
  {
   "cell_type": "code",
   "execution_count": 5,
   "metadata": {},
   "outputs": [],
   "source": [
    "x, y = carregar_dataset(\"swordhermit\", lambda d: d[\"status\"] == 2 or d[\"status\"] == \"2\", force_update=False)"
   ]
  },
  {
   "cell_type": "code",
   "execution_count": 6,
   "metadata": {},
   "outputs": [
    {
     "name": "stdout",
     "output_type": "stream",
     "text": [
      "0  -  No Score:  0\n",
      "1  -  Appalling:  138\n",
      "2  -  Horrible:  308\n",
      "3  -  Very Bad:  567\n",
      "4  -  Bad:  830\n",
      "5  -  Average:  1096\n",
      "6  -  Fine:  535\n",
      "7  -  Good:  260\n",
      "8  -  Very Good:  79\n",
      "9  -  Great:  25\n",
      "10  -  Masterpiece:  3\n"
     ]
    }
   ],
   "source": [
    "cont = [0, 0, 0, 0, 0, 0, 0, 0, 0, 0, 0, 0]\n",
    "\n",
    "for c in y.values:\n",
    "    cont[c] += 1\n",
    "\n",
    "for i in range(11):\n",
    "    print i, \" - \", class_names[i] + \": \", cont[i]\n"
   ]
  },
  {
   "cell_type": "code",
   "execution_count": 9,
   "metadata": {},
   "outputs": [
    {
     "data": {
      "text/plain": [
       "GridSearchCV(cv=None, error_score='raise',\n",
       "       estimator=DecisionTreeClassifier(class_weight=None, criterion='gini', max_depth=None,\n",
       "            max_features=None, max_leaf_nodes=None,\n",
       "            min_impurity_decrease=0.0, min_impurity_split=None,\n",
       "            min_samples_leaf=1, min_samples_split=2,\n",
       "            min_weight_fraction_leaf=0.0, presort=False, random_state=None,\n",
       "            splitter='best'),\n",
       "       fit_params=None, iid=True, n_jobs=1,\n",
       "       param_grid={'max_depth': [2, 3, 4, 5, 6]}, pre_dispatch='2*n_jobs',\n",
       "       refit=True, return_train_score='warn', scoring=None, verbose=0)"
      ]
     },
     "execution_count": 9,
     "metadata": {},
     "output_type": "execute_result"
    }
   ],
   "source": [
    "# Criar Grid Search Cross Validation\n",
    "from sklearn.model_selection import GridSearchCV\n",
    "parameters = {'max_depth': [2, 3, 4, 5, 6]}\n",
    "best_clf = GridSearchCV(clf, parameters)\n",
    "best_clf.fit(x, y)"
   ]
  },
  {
   "cell_type": "code",
   "execution_count": 8,
   "metadata": {},
   "outputs": [
    {
     "name": "stdout",
     "output_type": "stream",
     "text": [
      "Accuracy: 0.28 (+/- 0.02)\n"
     ]
    }
   ],
   "source": [
    "# Apresentacao dos resultados\n",
    "print 'Accuracy: %0.2f (+/- %0.2f)' % (scores.mean(), scores.std() * 2)"
   ]
  }
 ],
 "metadata": {
  "kernelspec": {
   "display_name": "Python 2",
   "language": "python",
   "name": "python2"
  },
  "language_info": {
   "codemirror_mode": {
    "name": "ipython",
    "version": 2
   },
   "file_extension": ".py",
   "mimetype": "text/x-python",
   "name": "python",
   "nbconvert_exporter": "python",
   "pygments_lexer": "ipython2",
   "version": "2.7.12"
  }
 },
 "nbformat": 4,
 "nbformat_minor": 2
}
