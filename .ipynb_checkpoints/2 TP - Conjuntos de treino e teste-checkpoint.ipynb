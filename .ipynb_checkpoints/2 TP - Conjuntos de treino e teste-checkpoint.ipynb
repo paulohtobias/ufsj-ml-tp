{
 "cells": [
  {
   "cell_type": "code",
   "execution_count": 4,
   "metadata": {},
   "outputs": [],
   "source": [
    "# Importa o pacote train_test_split\n",
    "from sklearn.model_selection import train_test_split\n",
    "\n",
    "#Importa o crawler\n",
    "import json\n",
    "import crawler\n",
    "import pandas as pd"
   ]
  },
  {
   "cell_type": "code",
   "execution_count": 26,
   "metadata": {},
   "outputs": [],
   "source": [
    "class_names = [\"No Score\", \"Appalling\", \"Horrible\", \"Very Bad\", \"Bad\", \"Average\", \"Fine\", \"Good\", \"Very Good\", \"Great\", \"Masterpiece\"]\n",
    "\n",
    "# Listas com todos os atributos disponíveis\n",
    "atributos_anime_todos = [\"title\", \"duration\", \"episodes\", \"genres\", \"popularity\", \"public_score\", \"rank\", \"rating\", \"source\", \"studios\", \"type\", \"year\"]\n",
    "atributos_avaliacao_todos = [\"num_watched_episodes\", \"user_score\", \"status\"]\n",
    "\n",
    "# Listas com alguns atributos mais relevantes\n",
    "atributos_anime_padrao = atributos_anime_todos#[\"duration\", \"episodes\", \"genres\", \"type\", \"year\"]\n",
    "atributos_avaliacao_padrao = atributos_avaliacao_todos#[\"user_score\"]"
   ]
  },
  {
   "cell_type": "code",
   "execution_count": 27,
   "metadata": {},
   "outputs": [],
   "source": [
    "def filtro(usuario, f_selecao, atributos_anime = atributos_anime_padrao, atributos_avaliacao = atributos_avaliacao_padrao, agrupar_episodios = False, force_update = False):\n",
    "\tif \"user_score\" not in atributos_avaliacao:\n",
    "\t\tatributos_avaliacao.append(\"user_score\")\n",
    "\n",
    "\tdados = []\n",
    "\tlista_animes = crawler.get_lista(usuario)\n",
    "\n",
    "\tgeneros = []\n",
    "\testudios = []\n",
    "\tfor anime in lista_animes:\n",
    "\t\tif anime.genres != None:\n",
    "\t\t\tgeneros.extend(anime.genres)\n",
    "\t\tif anime.studios != None:\n",
    "\t\t\testudios.extend(anime.studios)\n",
    "\n",
    "\tgeneros = list(set(generos))\n",
    "\testudios = list(set(estudios))\n",
    "\n",
    "\tfor anime in lista_animes:\n",
    "\t\tdado = {}\n",
    "\t\tdado_filtrado = {}\n",
    "\n",
    "\t\t# Pegando os dados do anime\n",
    "\t\tfor atributo in atributos_anime_todos:\n",
    "\t\t\tdado[atributo] = anime.__dict__[atributo]\n",
    "\n",
    "\t\t# Pegando os dados da avaliação\n",
    "\t\twith open(\"data/users/\" + usuario + \"/\" + str(anime.id) + \".json\") as f:\n",
    "\t\t\tavaliacao = json.loads(f.read())\n",
    "\n",
    "\t\t\tfor atributo in atributos_avaliacao_todos:\n",
    "\t\t\t\tdado[atributo] = avaliacao[atributo]\n",
    "\n",
    "\t\tif f_selecao == None or f_selecao(dado):\n",
    "\t\t\tdado_filtrado = {}\n",
    "\t\t\t\n",
    "\t\t\tfor atributo in atributos_anime:\n",
    "\t\t\t\tif atributo == \"genres\":\n",
    "\t\t\t\t\tfor genero in generos:\n",
    "\t\t\t\t\t\tif genero in dado[\"genres\"]:\n",
    "\t\t\t\t\t\t\tdado_filtrado[\"Genre:\" + genero] = 1\n",
    "\t\t\t\t\t\telse:\n",
    "\t\t\t\t\t\t\tdado_filtrado[\"Genre:\" + genero] = -1\n",
    "\t\t\t\t\tcontinue\n",
    "\n",
    "\t\t\t\tif atributo == \"studios\":\n",
    "\t\t\t\t\tfor estudio in estudios:\n",
    "\t\t\t\t\t\tif estudio in dado[\"studios\"]:\n",
    "\t\t\t\t\t\t\tdado_filtrado[\"Studio:\" + estudio] = 1\n",
    "\t\t\t\t\t\telse:\n",
    "\t\t\t\t\t\t\tdado_filtrado[\"Studio:\" + estudio] = -1\n",
    "\t\t\t\t\tcontinue\n",
    "\n",
    "\t\t\t\tif agrupar_episodios and \"episodes\" in atributo:\n",
    "\t\t\t\t\ttry:\n",
    "\t\t\t\t\t\tepis = int(dado[atributo])\n",
    "\t\t\t\t\t\tif epis <= 6:\n",
    "\t\t\t\t\t\t\tdado_filtrado[atributo] = 1\n",
    "\t\t\t\t\t\telif epis <= 14:\n",
    "\t\t\t\t\t\t\tdado_filtrado[atributo] = 2\n",
    "\t\t\t\t\t\telif epis <= 26:\n",
    "\t\t\t\t\t\t\tdado_filtrado[atributo] = 3\n",
    "\t\t\t\t\t\telif epis <= 70:\n",
    "\t\t\t\t\t\t\tdado_filtrado[atributo] = 4\n",
    "\t\t\t\t\t\telse:\n",
    "\t\t\t\t\t\t\tdado_filtrado[atributo] = 5\n",
    "\t\t\t\t\texcept:\n",
    "\t\t\t\t\t\tdado_filtrado[atributo] = dado[atributo]\n",
    "\n",
    "\t\t\tfor atributo in atributos_avaliacao:\n",
    "\t\t\t\tdado_filtrado[atributo] = dado[atributo]\n",
    "\n",
    "\t\t\tdados.append(dado_filtrado)\n",
    "\t\n",
    "\treturn dados"
   ]
  },
  {
   "cell_type": "code",
   "execution_count": 28,
   "metadata": {},
   "outputs": [],
   "source": [
    "def carregar_dataset(usuario, f_selecao, atributos_anime = atributos_anime_padrao, atributos_avaliacao = atributos_avaliacao_padrao, agrupar_episodios = False, force_update = False):\n",
    "\tlista_final = filtro(\"jusaragu\", lambda d: d[\"status\"] == 2, force_update=True)\n",
    "\n",
    "\tdf = pd.read_json(json.dumps(lista_final))\n",
    "\n",
    "\ttarget = df['user_score']\n",
    "\tdata = df.drop('user_score', axis = 1)\n",
    "\n",
    "\tfrom sklearn import preprocessing\n",
    "\tle = preprocessing.LabelEncoder()\n",
    "\tfor attr in data.columns:\n",
    "\t\tif data[attr].dtype == object:\n",
    "\t\t\tdata[attr] = le.fit_transform(data[attr])\n",
    "\t\n",
    "\treturn data, target"
   ]
  },
  {
   "cell_type": "code",
   "execution_count": 59,
   "metadata": {},
   "outputs": [],
   "source": [
    "x, y = carregar_dataset(\"jusaragu\", lambda d: d[\"status\"] == 2, force_update=True)"
   ]
  },
  {
   "cell_type": "code",
   "execution_count": 68,
   "metadata": {},
   "outputs": [
    {
     "data": {
      "text/plain": [
       "0.27500000000000002"
      ]
     },
     "execution_count": 68,
     "metadata": {},
     "output_type": "execute_result"
    }
   ],
   "source": [
    "# MODELO 1\n",
    "\n",
    "# Dividir conjuntos de treinamento e teste\n",
    "x_train, x_test, y_train, y_test = train_test_split(    # Divide conjuntos nao-aleatoriamente\n",
    "    x, y, shuffle=False)\n",
    "\n",
    "# Treinamento da Arvore de Decisao\n",
    "from sklearn import tree                    # Importa o pacote de arvore de decisao\n",
    "clf = tree.DecisionTreeClassifier()         # Cria classificador\n",
    "clf = clf.fit(x_train, y_train)             # Treina o classificador\n",
    "\n",
    "# Avaliacao dos resultados\n",
    "clf.score(x_test, y_test)"
   ]
  },
  {
   "cell_type": "code",
   "execution_count": 69,
   "metadata": {},
   "outputs": [
    {
     "data": {
      "text/plain": [
       "'modelo_1.png'"
      ]
     },
     "execution_count": 69,
     "metadata": {},
     "output_type": "execute_result"
    }
   ],
   "source": [
    "# Visualizacao da Arvore do Modelo 1\n",
    "import graphviz\n",
    "\n",
    "cn = []\n",
    "for v in sorted(set(y_train.values)):\n",
    "    cn.append(str(v) + \": \" + class_names[v])\n",
    "\n",
    "dot_data = tree.export_graphviz(clf, out_file=None,\n",
    "     feature_names=x.columns,\n",
    "     class_names=cn,\n",
    "     filled=True, rounded=True,\n",
    "     special_characters=True)\n",
    "graph = graphviz.Source(dot_data, format='png')\n",
    "graph.render('modelo_1', view=True)"
   ]
  },
  {
   "cell_type": "code",
   "execution_count": 81,
   "metadata": {},
   "outputs": [
    {
     "data": {
      "text/plain": [
       "0.34999999999999998"
      ]
     },
     "execution_count": 81,
     "metadata": {},
     "output_type": "execute_result"
    }
   ],
   "source": [
    "# MODELO 2\n",
    "\n",
    "# Dividir novamente os conjuntos de treinamento e teste\n",
    "x_train, x_test, y_train, y_test = train_test_split(    # Divide conjuntos aleatoriamente\n",
    "    x, y, shuffle=True)                                 # Por padrao em 75% treino e 25% teste\n",
    "\n",
    "# Re-treina o classificador\n",
    "clf = clf.fit(x_train, y_train)\n",
    "\n",
    "# Avaliacao dos resultados\n",
    "clf.score(x_test, y_test)"
   ]
  },
  {
   "cell_type": "code",
   "execution_count": 83,
   "metadata": {},
   "outputs": [
    {
     "data": {
      "text/plain": [
       "'modelo_2.png'"
      ]
     },
     "execution_count": 83,
     "metadata": {},
     "output_type": "execute_result"
    }
   ],
   "source": [
    "dot_data = tree.export_graphviz(clf, out_file=None,\n",
    "     feature_names=x.columns,\n",
    "     class_names=cn,\n",
    "     filled=True, rounded=True,\n",
    "     special_characters=True)\n",
    "graph = graphviz.Source(dot_data, format='png')\n",
    "graph.render('modelo_2', view=True)"
   ]
  },
  {
   "cell_type": "code",
   "execution_count": 91,
   "metadata": {},
   "outputs": [
    {
     "data": {
      "text/plain": [
       "0.42499999999999999"
      ]
     },
     "execution_count": 91,
     "metadata": {},
     "output_type": "execute_result"
    }
   ],
   "source": [
    "# MODELO 3\n",
    "\n",
    "# Dividir novamente os conjuntos de treinamento e teste\n",
    "x_train, x_test, y_train, y_test = train_test_split(    # Divide aleatoria e estratificadamente,\n",
    "    x, y, stratify=y)                                   # i.e., mantem proporcionalidade das classes\n",
    "\n",
    "# Re-treina o classificador\n",
    "clf = clf.fit(x_train, y_train)\n",
    "\n",
    "# Avaliacao dos resultados\n",
    "clf.score(x_test, y_test)"
   ]
  },
  {
   "cell_type": "code",
   "execution_count": 92,
   "metadata": {},
   "outputs": [
    {
     "data": {
      "text/plain": [
       "'modelo_3.png'"
      ]
     },
     "execution_count": 92,
     "metadata": {},
     "output_type": "execute_result"
    }
   ],
   "source": [
    "dot_data = tree.export_graphviz(clf, out_file=None,\n",
    "     feature_names=x.columns,\n",
    "     class_names=cn,\n",
    "     filled=True, rounded=True,\n",
    "     special_characters=True)\n",
    "graph = graphviz.Source(dot_data, format='png')\n",
    "graph.render('modelo_3', view=True)"
   ]
  }
 ],
 "metadata": {
  "kernelspec": {
   "display_name": "Python 2",
   "language": "python",
   "name": "python2"
  },
  "language_info": {
   "codemirror_mode": {
    "name": "ipython",
    "version": 2
   },
   "file_extension": ".py",
   "mimetype": "text/x-python",
   "name": "python",
   "nbconvert_exporter": "python",
   "pygments_lexer": "ipython2",
   "version": "2.7.12"
  }
 },
 "nbformat": 4,
 "nbformat_minor": 2
}
